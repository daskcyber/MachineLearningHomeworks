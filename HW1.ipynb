{
 "cells": [
  {
   "cell_type": "markdown",
   "metadata": {},
   "source": [
    "# Classification on Wine Dataset\n",
    "\n",
    "## IMPORTANT: make sure to rerun all the code from the beginning to obtain the results for the final version of your notebook, since this is the way we will do it before evaluting your notebook!!!\n",
    "\n",
    "### Dataset description\n",
    "\n",
    "We will be working with a dataset on wines from the UCI machine learning repository\n",
    "(http://archive.ics.uci.edu/ml/datasets/Wine). It contains data for 178 instances. \n",
    "The dataset is the results of a chemical analysis of wines grown in the same region\n",
    "in Italy but derived from three different cultivars. The analysis determined the\n",
    "quantities of 13 constituents found in each of the three types of wines. \n",
    "\n",
    "### The features in the dataset are:\n",
    "\n",
    "- Alcohol\n",
    "- Malic acid\n",
    "- Ash\n",
    "- Alcalinity of ash\n",
    "- Magnesium\n",
    "- Total phenols\n",
    "- Flavanoids\n",
    "- Nonflavanoid phenols\n",
    "- Proanthocyanins\n",
    "- Color intensity\n",
    "- Hue\n",
    "- OD280/OD315 of diluted wines\n",
    "-Proline\n",
    "\n"
   ]
  },
  {
   "cell_type": "markdown",
   "metadata": {},
   "source": [
    "We first import all the packages that are needed"
   ]
  },
  {
   "cell_type": "code",
   "execution_count": 1,
   "metadata": {},
   "outputs": [],
   "source": [
    "%matplotlib inline\n",
    "import matplotlib.pyplot as plt\n",
    "\n",
    "\n",
    "import numpy as np\n",
    "import scipy as sp\n",
    "from scipy import stats\n",
    "from sklearn import datasets\n",
    "from sklearn import linear_model"
   ]
  },
  {
   "cell_type": "markdown",
   "metadata": {},
   "source": [
    "# Perceptron\n",
    "We will implement the perceptron and use it to learn a halfspace with 0-1 loss."
   ]
  },
  {
   "cell_type": "markdown",
   "metadata": {},
   "source": [
    "**TO DO** Set the random seed to your ID (matricola)."
   ]
  },
  {
   "cell_type": "code",
   "execution_count": 2,
   "metadata": {},
   "outputs": [],
   "source": [
    "IDnumber = #Set your ID or just a number to start\n",
    "np.random.seed(IDnumber)"
   ]
  },
  {
   "cell_type": "markdown",
   "metadata": {},
   "source": [
    "Load the dataset from scikit learn and then split in training set and test set (50%-50%) after applying a random permutation to the datset."
   ]
  },
  {
   "cell_type": "code",
   "execution_count": 3,
   "metadata": {},
   "outputs": [],
   "source": [
    "# Load the dataset from scikit learn\n",
    "wine = datasets.load_wine()\n",
    "\n",
    "m = wine.data.shape[0]\n",
    "permutation = np.random.permutation(m)\n",
    "\n",
    "X = wine.data[permutation]\n",
    "Y = wine.target[permutation]"
   ]
  },
  {
   "cell_type": "markdown",
   "metadata": {},
   "source": [
    "We are going to classify class \"1\" vs the other two classes (0 and 2). We are going to relabel the other classes (0 and 2) as \"-1\" so that we can use it directly with the perceptron."
   ]
  },
  {
   "cell_type": "code",
   "execution_count": 4,
   "metadata": {},
   "outputs": [],
   "source": [
    "#let's relabel classes 0 and 2 as -1\n",
    "\n",
    "for i in range(len(Y)):\n",
    "    if Y[i] != 1:\n",
    "        Y[i] = -1"
   ]
  },
  {
   "cell_type": "markdown",
   "metadata": {},
   "source": [
    "**TO DO** Divide the data into training set and test set (50% of the data each)"
   ]
  },
  {
   "cell_type": "code",
   "execution_count": 5,
   "metadata": {},
   "outputs": [
    {
     "name": "stdout",
     "output_type": "stream",
     "text": [
      "[-1 -1 -1  1 -1 -1  1  1 -1 -1 -1 -1  1  1 -1 -1 -1  1  1  1 -1  1  1 -1\n",
      "  1 -1 -1 -1 -1  1 -1  1 -1 -1 -1 -1 -1 -1  1  1  1 -1  1  1 -1 -1 -1  1\n",
      "  1  1 -1 -1 -1 -1 -1 -1 -1  1 -1  1 -1 -1  1 -1  1  1  1  1  1  1 -1 -1\n",
      " -1 -1  1 -1 -1  1  1  1  1 -1 -1 -1  1 -1 -1 -1 -1]\n"
     ]
    }
   ],
   "source": [
    "#Divide in training and test: make sure that your training set\n",
    "#contains at least 10 elements from class 1 and at least 10 elements\n",
    "#from class -1! If it does not, modify the code so to apply more random\n",
    "#permutations (or the same permutation multiple times) until this happens.\n",
    "\n",
    "#m_training needs to be the number of samples in the training set\n",
    "m_training = int(m/2) #altrimenti è float\n",
    "\n",
    "#m_test needs to be the number of samples in the test set\n",
    "m_test = int(m/2)\n",
    "\n",
    "#X_training = instances for training set\n",
    "X_training = X[:m_training,:]\n",
    "#Y_training = labels for the training set\n",
    "Y_training = Y[:m_training]\n",
    "\n",
    "#X_test = instances for test set\n",
    "X_test = X[m_training:,:]\n",
    "#Y_test = labels for the test set\n",
    "Y_test = Y[m_training:]\n",
    "\n",
    "print(Y_training) #to make sure that Y_training contains both 1 and -1"
   ]
  },
  {
   "cell_type": "markdown",
   "metadata": {},
   "source": [
    "**TO DO** Now add a 1 in front of each sample so that we can use a vector to describe all the coefficients of the model. You can use the function $hstack$ in $numpy$"
   ]
  },
  {
   "cell_type": "code",
   "execution_count": 6,
   "metadata": {},
   "outputs": [
    {
     "name": "stdout",
     "output_type": "stream",
     "text": [
      "[[1.000e+00 1.320e+01 1.780e+00 ... 1.050e+00 3.400e+00 1.050e+03]\n",
      " [1.000e+00 1.253e+01 5.510e+00 ... 8.200e-01 1.690e+00 5.150e+02]\n",
      " [1.000e+00 1.245e+01 3.030e+00 ... 6.700e-01 1.730e+00 8.800e+02]\n",
      " ...\n",
      " [1.000e+00 1.406e+01 1.630e+00 ... 1.090e+00 3.710e+00 7.800e+02]\n",
      " [1.000e+00 1.421e+01 4.040e+00 ... 8.700e-01 3.330e+00 1.080e+03]\n",
      " [1.000e+00 1.324e+01 2.590e+00 ... 1.040e+00 2.930e+00 7.350e+02]]\n"
     ]
    }
   ],
   "source": [
    "#add a 1 to each sample\n",
    "arrayuni=np.ones(m_training) #creates array of 1 as many as of the size m_training \n",
    "arrayuni=arrayuni.reshape(m_training,1) #it becomes a matrix with all the 1's in column and m_training rows\n",
    "X_training = np.hstack((arrayuni,X_training)) #I put the previous column to hstack which has size 2 now\n",
    "X_test = np.hstack((arrayuni,X_test))\n",
    "print(X_training)"
   ]
  },
  {
   "cell_type": "markdown",
   "metadata": {},
   "source": [
    "**TO DO** Now complete the function *perceptron*. Since the perceptron does not terminate if the data is not linearly separable, your implementation should return the desired output (see below) if it reached the termination condition seen in class or if a maximum number of iterations have already been run, where 1 iteration corresponds to 1 update of the perceptron weights. If the perceptron returns because the maximum number of iterations has been reached, you should return an appropriate model. \n",
    "\n",
    "The input parameters to pass are:\n",
    "- $X$: the matrix of input features, one row for each sample\n",
    "- $Y$: the vector of labels for the input features matrix X\n",
    "- $max\\_num\\_iterations$: the maximum number of iterations for running the perceptron\n",
    "\n",
    "The output values are:\n",
    "- $best\\_w$: the vector with the coefficients of the best model\n",
    "- $best\\_error$: the *fraction* of missclassified samples for the best model"
   ]
  },
  {
   "cell_type": "code",
   "execution_count": 7,
   "metadata": {},
   "outputs": [],
   "source": [
    "def perceptron(X, Y, max_num_iterations):\n",
    "    best_w = np.zeros(len(X[0,:])) #array of 0s\n",
    "    best_error=0\n",
    "    for t in range(max_num_iterations):\n",
    "        new_best_w = best_w \n",
    "        err=0\n",
    "        for k in range(len(Y)): #iterate on the samples\n",
    "            prediction = np.dot(X[k,:],best_w) #internal product, prediction\n",
    "            if (Y[k]*prediction <= 0): \n",
    "                new_best_w= best_w + Y[k]*X[k,:] #it is wrong so i put modified weights vectors\n",
    "                err+=1\n",
    "        best_w = new_best_w\n",
    "        if (err==0):\n",
    "            best_error=0\n",
    "            return best_w, best_error\n",
    "        best_error=err/len(Y)\n",
    "    return best_w, best_error"
   ]
  },
  {
   "cell_type": "markdown",
   "metadata": {},
   "source": [
    "Now we use the implementation above of the perceptron to learn a model from the training data using 100 iterations and print the error of the best model we have found."
   ]
  },
  {
   "cell_type": "code",
   "execution_count": 8,
   "metadata": {},
   "outputs": [
    {
     "name": "stdout",
     "output_type": "stream",
     "text": [
      "Training error with 100 iterations: 0.38202247191011235\n"
     ]
    }
   ],
   "source": [
    "#now run the perceptron for 100 iterations\n",
    "w_found, training_error = perceptron(X_training,Y_training, 100)\n",
    "print(\"Training error with 100 iterations: \"+str(training_error))"
   ]
  },
  {
   "cell_type": "markdown",
   "metadata": {},
   "source": [
    "**TO DO** use the best model $w\\_found$ to predict the labels for the test dataset and print the fraction of missclassified samples in the test set (that is an estimate of the true loss)."
   ]
  },
  {
   "cell_type": "code",
   "execution_count": 9,
   "metadata": {},
   "outputs": [
    {
     "name": "stdout",
     "output_type": "stream",
     "text": [
      "Estimated true loss with 100 iterations:0.33707865168539325\n"
     ]
    }
   ],
   "source": [
    "#now use the w_found to make predictions on test dataset\n",
    "\n",
    "#num_errors = number of errors in the test set\n",
    "num_errors = 0.\n",
    "\n",
    "for k in range(len(Y_test)):\n",
    "    prediction = np.dot(X_test[k,:],w_found)\n",
    "    if (Y_test[k] * prediction <= 0):\n",
    "        num_errors+=1\n",
    "\n",
    "true_loss_estimate = num_errors/m_test\n",
    "\n",
    "\n",
    "#NOTE: you can avoid using num_errors if you prefer, as long as true_loss_estimate is correct\n",
    "print(\"Estimated true loss with 100 iterations:\"+str(true_loss_estimate))"
   ]
  },
  {
   "cell_type": "markdown",
   "metadata": {},
   "source": [
    "**TO DO**: what relation do you observe between the training error and the (estimated) true loss? Is this what you expected? Explain what you observe and why it does or does not conform to your expectations.\n",
    "\n",
    "**ANSWER**: I noticed that the true loss is smaller than the training error and its what i expected because a good algorithm must perform well on the test set"
   ]
  },
  {
   "cell_type": "markdown",
   "metadata": {},
   "source": [
    "**TO DO** Copy the code from the last 2 cells above in the cell below and repeat the training with 10000 iterations. "
   ]
  },
  {
   "cell_type": "code",
   "execution_count": 10,
   "metadata": {},
   "outputs": [
    {
     "name": "stdout",
     "output_type": "stream",
     "text": [
      "Training error with 10000 iterations: 0.19101123595505617\n",
      "Estimated true loss with 10000 iterations:0.25842696629213485\n"
     ]
    }
   ],
   "source": [
    "#now run the perceptron for 10000 iterations here!\n",
    "\n",
    "w_found, training_error = perceptron(X_training,Y_training, 10000)\n",
    "\n",
    "\n",
    "#training_error = error on the training set\n",
    "print(\"Training error with 10000 iterations: \"+str(training_error))\n",
    "\n",
    "#num_errors = number of errors in the test set\n",
    "num_errors = 0.\n",
    "\n",
    "for k in range(len(Y_test)):\n",
    "    prediction = np.dot(X_test[k,:],w_found)\n",
    "    if (Y_test[k] * prediction <= 0):\n",
    "        num_errors+=1\n",
    "\n",
    "\n",
    "true_loss_estimate = num_errors/m_test\n",
    "\n",
    "#NOTE: you can avoid using num_errors if you prefer, as long as true_loss_estimate is correct\n",
    "print(\"Estimated true loss with 10000 iterations:\"+str(true_loss_estimate))"
   ]
  },
  {
   "cell_type": "markdown",
   "metadata": {},
   "source": [
    "**TO DO** [Answer the following] What changes in the training error and in the test error (in terms of fraction of missclassified samples)? Explain what you observe. [Write the answer in this cell]\n",
    "\n",
    "**ANSWER** The training error and the test error are smaller than with 100 iterations but the true loss now is bigger than the training error and its not good becaue we might doing overfitting on the training data"
   ]
  },
  {
   "cell_type": "markdown",
   "metadata": {},
   "source": [
    "# Logistic Regression\n",
    "Now we use logistic regression, as implemented in Scikit-learn, to predict labels. We first do it for 2 labels and then for 3 labels. We will also plot the decision region of logistic regression.\n",
    "\n",
    "We first load the dataset again."
   ]
  },
  {
   "cell_type": "code",
   "execution_count": 11,
   "metadata": {},
   "outputs": [],
   "source": [
    "# Load the dataset from scikit learn\n",
    "wine = datasets.load_wine()\n",
    "\n",
    "m = wine.data.shape[0]\n",
    "permutation = np.random.permutation(m)\n",
    "\n",
    "X = wine.data[permutation]\n",
    "Y = wine.target[permutation]"
   ]
  },
  {
   "cell_type": "markdown",
   "metadata": {},
   "source": [
    "**TO DO** As for the previous part, divide the data into training and test (50%-50%), relabel classes 0 and 2 as -1. Here there is no need to add a 1 at the beginning of each row, since it will be done automatically by the function we will use."
   ]
  },
  {
   "cell_type": "code",
   "execution_count": 12,
   "metadata": {},
   "outputs": [],
   "source": [
    "#Divide in training and test: make sure that your training set\n",
    "#contains at least 10 elements from class 1 and at least 10 elements\n",
    "#from class -1! If it does not, modify the code so to apply more random\n",
    "#permutations (or the same permutation multiple times) until this happens.\n",
    "#IMPORTANT: do not change the random seed.\n",
    "\n",
    "m_training =int(m/2)\n",
    "m_test = int(m/2)\n",
    "\n",
    "X_training = X[:m_training,:]\n",
    "Y_training = Y[:m_training]\n",
    "\n",
    "X_test = X[m_training:,:]\n",
    "Y_test = Y[m_training:]\n",
    "\n",
    "#let's relabel classes 0 and 2 as -1\n",
    "\n",
    "for i in range(len(Y)):\n",
    "    if Y[i] != 1:\n",
    "        Y[i] = -1"
   ]
  },
  {
   "cell_type": "markdown",
   "metadata": {},
   "source": [
    "To define a logistic regression model in Scikit-learn use the instruction\n",
    "\n",
    "$linear\\_model.LogisticRegression(C=1e5)$\n",
    "\n",
    "($C$ is a parameter related to *regularization*, a technique that\n",
    "we will see later in the course. Setting it to a high value is almost\n",
    "as ignoring regularization, so the instruction above corresponds to the\n",
    "logistic regression you have seen in class.)\n",
    "\n",
    "To learn the model you need to use the $fit(...)$ instruction and to predict you need to use the $predict(...)$ function. See the Scikit-learn documentation for how to use it.\n",
    "\n",
    "**TO DO** Define the logistic regression model, then learn the model using the training set and predict on the test set. Then print the fraction of samples missclassified in the training set and in the test set."
   ]
  },
  {
   "cell_type": "code",
   "execution_count": 13,
   "metadata": {},
   "outputs": [
    {
     "name": "stdout",
     "output_type": "stream",
     "text": [
      "Error rate on training set: 0.0\n",
      "Error rate on test set: 0.0561797752808989\n"
     ]
    }
   ],
   "source": [
    "#part on logistic regression for 2 classes\n",
    "logreg =linear_model.LogisticRegression(C=1e5,solver='liblinear')\n",
    "\n",
    "#learn from training set\n",
    "logreg.fit(X_training, Y_training)\n",
    "\n",
    "\n",
    "#predict on training set\n",
    "logreg.predict(X_training)\n",
    "\n",
    "\n",
    "error_rate_training=1-logreg.score(X_training, Y_training)\n",
    "#print the error rate = fraction of missclassified samples\n",
    "print(\"Error rate on training set: \"+str(error_rate_training))\n",
    "\n",
    "#predict on test set\n",
    "\n",
    "logreg.predict(X_test)\n",
    "error_rate_test=1-logreg.score(X_test,Y_test)\n",
    "\n",
    "#print the error rate = fraction of missclassified samples\n",
    "\n",
    "print(\"Error rate on test set: \"+str(error_rate_test))"
   ]
  },
  {
   "cell_type": "markdown",
   "metadata": {},
   "source": [
    "Now we do logistic regression for classification with 3 classes.\n",
    "\n",
    "**TO DO** First: let's load the data once again (with the same permutation from before)."
   ]
  },
  {
   "cell_type": "code",
   "execution_count": 14,
   "metadata": {},
   "outputs": [],
   "source": [
    "#part on logistic regression for 3 classes\n",
    "\n",
    "#Divide in training and test: make sure that your training set\n",
    "#contains at least 10 elements from each of the 3 classes!\n",
    "#If it does not, modify the code so to apply more random\n",
    "#permutations (or the same permutation multiple times) until this happens.\n",
    "#IMPORTANT: do not change the random seed.\n",
    "X = wine.data[permutation]\n",
    "Y = wine.target[permutation]\n",
    "\n",
    "X_training = X[:m_training,:]\n",
    "Y_training = Y[:m_training]\n",
    "\n",
    "X_test = X[m_training:,:]\n",
    "Y_test = Y[m_training:]"
   ]
  },
  {
   "cell_type": "markdown",
   "metadata": {},
   "source": [
    "**TO DO** Now perform logistic regression (instructions as before) for 3 classes, learning a model from the training set and predicting on the test set. Print the fraction of missclassified samples on the training set and the fraction of missclassified samples on the test set."
   ]
  },
  {
   "cell_type": "code",
   "execution_count": 15,
   "metadata": {},
   "outputs": [
    {
     "name": "stdout",
     "output_type": "stream",
     "text": [
      "Error rate on training set: 0.0\n",
      "Error rate on test set: 0.0674157303370787\n"
     ]
    }
   ],
   "source": [
    "#part on logistic regression for 3 classes\n",
    "logreg =linear_model.LogisticRegression(C=1e5,solver='liblinear')\n",
    "\n",
    "#learn from training set\n",
    "\n",
    "logreg.fit(X_training, Y_training)\n",
    "\n",
    "#predict on training set\n",
    "\n",
    "logreg.predict(X_training)\n",
    "\n",
    "error_rate_training=1-logreg.score(X_training, Y_training)\n",
    "#print the error rate = fraction of missclassified samples\n",
    "print(\"Error rate on training set: \"+str(error_rate_training))\n",
    "\n",
    "#predict on test set\n",
    "\n",
    "logreg.predict(X_test)\n",
    "error_rate_test=1-logreg.score(X_test,Y_test)\n",
    "\n",
    "#print the error rate = fraction of missclassified samples\n",
    "print(\"Error rate on test set: \"+str(error_rate_test))"
   ]
  },
  {
   "cell_type": "markdown",
   "metadata": {},
   "source": [
    "**TO DO** Now pick two features and restrict the dataset to include only two features, whose indices are specified in the $feature$ vector below. Then split into training and test."
   ]
  },
  {
   "cell_type": "code",
   "execution_count": 16,
   "metadata": {},
   "outputs": [],
   "source": [
    "#to make the plot we need to reduce the data to 2D, so we choose two features\n",
    "\n",
    "features_list = ['Alcohol',\n",
    "'Malic acid',\n",
    "'Ash',\n",
    "'Alcalinity of ash',\n",
    "'Magnesium',\n",
    "'Total phenols',\n",
    "'Flavanoids',\n",
    "'Nonflavanoid phenols',\n",
    "'Proanthocyanins',\n",
    "'Color intensity',\n",
    "'Hue',\n",
    "'OD280/OD315 of diluted wines',\n",
    "'Proline']\n",
    "labels_list = ['class_0', 'class_1', 'class_2']\n",
    "\n",
    "index_feature1 = 4\n",
    "index_feature2 = 5\n",
    "features = [index_feature1, index_feature2]\n",
    "\n",
    "feature_name0 = features_list[features[0]]\n",
    "feature_name1 = features_list[features[1]]\n",
    "\n",
    "#X_red is X reduced to include only the 2 features of\n",
    "#indices index_feature1 and index_feature2\n",
    "X_red = X[:,features]\n",
    "\n",
    "X_red_training = X_red[:m_training,:]\n",
    "Y_training = Y[:m_training]\n",
    "\n",
    "X_red_test =  X_red[m_training:,:]\n",
    "Y_test = Y[m_training:]"
   ]
  },
  {
   "cell_type": "markdown",
   "metadata": {},
   "source": [
    "Now learn a model using the training data."
   ]
  },
  {
   "cell_type": "code",
   "execution_count": 17,
   "metadata": {},
   "outputs": [
    {
     "data": {
      "text/plain": [
       "LogisticRegression(C=100000.0, solver='liblinear')"
      ]
     },
     "execution_count": 17,
     "metadata": {},
     "output_type": "execute_result"
    }
   ],
   "source": [
    "#ADD CODE! (only for learning from training data)\n",
    "\n",
    "#part on logistic regression for 3 classes\n",
    "logreg =linear_model.LogisticRegression(C=1e5,solver='liblinear')\n",
    "\n",
    "\n",
    "#learn from training set\n",
    "\n",
    "logreg.fit(X_red_training, Y_training)"
   ]
  },
  {
   "cell_type": "markdown",
   "metadata": {},
   "source": [
    "If everything is ok, the code below uses the model in $logreg$ to plot the decision region for the two features chosen above, with colors denoting the predicted value. It also plots the points (with correct labels) in the training set. It makes a similar plot for the test set."
   ]
  },
  {
   "cell_type": "code",
   "execution_count": 18,
   "metadata": {},
   "outputs": [
    {
     "data": {
      "image/png": "[encoded data removed]",
      "text/plain": [
       "<Figure size 288x216 with 1 Axes>"
      ]
     },
     "metadata": {},
     "output_type": "display_data"
    },
    {
     "data": {
      "image/png": "[encoded data removed]",
      "text/plain": [
       "<Figure size 288x216 with 1 Axes>"
      ]
     },
     "metadata": {},
     "output_type": "display_data"
    }
   ],
   "source": [
    "# Plot the decision boundary. For that, we will assign a color to each\n",
    "# point in the mesh [x_min, x_max]x[y_min, y_max].\n",
    "h = .02  # step size in the mesh\n",
    "x_min, x_max = X_red[:, 0].min() - .5, X_red[:, 0].max() + .5\n",
    "y_min, y_max = X_red[:, 1].min() - .5, X_red[:, 1].max() + .5\n",
    "xx, yy = np.meshgrid(np.arange(x_min, x_max, h), np.arange(y_min, y_max, h))\n",
    "\n",
    "Z = logreg.predict(np.c_[xx.ravel(), yy.ravel()])\n",
    "\n",
    "# Put the result into a color plot\n",
    "Z = Z.reshape(xx.shape)\n",
    "\n",
    "plt.figure(1, figsize=(4, 3))\n",
    "plt.pcolormesh(xx, yy, Z, cmap=plt.cm.Paired)\n",
    "\n",
    "# Plot also the training points\n",
    "plt.scatter(X_red_training[:, 0], X_red_training[:, 1], c=Y_training, edgecolors='k', cmap=plt.cm.Paired)\n",
    "plt.xlabel(feature_name0)\n",
    "plt.ylabel(feature_name1)\n",
    "\n",
    "plt.xlim(xx.min(), xx.max())\n",
    "plt.ylim(yy.min(), yy.max())\n",
    "plt.xticks(())\n",
    "plt.yticks(())\n",
    "plt.title('Training set')\n",
    "\n",
    "plt.show()\n",
    "\n",
    "# Put the result into a color plot\n",
    "Z = Z.reshape(xx.shape)\n",
    "plt.figure(1, figsize=(4, 3))\n",
    "plt.pcolormesh(xx, yy, Z, cmap=plt.cm.Paired)\n",
    "\n",
    "# Plot also the test points \n",
    "plt.scatter(X_red_test[:, 0], X_red_test[:, 1], c=Y_test, edgecolors='k', cmap=plt.cm.Paired, marker='s')\n",
    "plt.xlabel(feature_name0)\n",
    "plt.ylabel(feature_name1)\n",
    "\n",
    "plt.xlim(xx.min(), xx.max())\n",
    "plt.ylim(yy.min(), yy.max())\n",
    "plt.xticks(())\n",
    "plt.yticks(())\n",
    "plt.title('Test set')\n",
    "\n",
    "plt.show()"
   ]
  },
  {
   "cell_type": "code",
   "execution_count": null,
   "metadata": {},
   "outputs": [],
   "source": []
  },
  {
   "cell_type": "code",
   "execution_count": null,
   "metadata": {},
   "outputs": [],
   "source": []
  }
 ],
 "metadata": {
  "anaconda-cloud": {},
  "kernelspec": {
   "display_name": "Python 3 (ipykernel)",
   "language": "python",
   "name": "python3"
  },
  "language_info": {
   "codemirror_mode": {
    "name": "ipython",
    "version": 3
   },
   "file_extension": ".py",
   "mimetype": "text/x-python",
   "name": "python",
   "nbconvert_exporter": "python",
   "pygments_lexer": "ipython3",
   "version": "3.9.12"
  }
 },
 "nbformat": 4,
 "nbformat_minor": 4
}
