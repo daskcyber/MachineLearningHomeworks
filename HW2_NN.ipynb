{
 "cells": [
  {
   "cell_type": "markdown",
   "metadata": {},
   "source": [
    "# Neural Networks for Classification\n",
    "\n",
    "In this notebook we are going to explore the use of Neural Networks for image classification. We are going to use a dataset of small images of clothes and accessories, the Fashion MNIST. You can find more information regarding the dataset here: https://pravarmahajan.github.io/fashion/\n",
    "\n",
    "Each instance in the dataset consist of an image, in a format similar to the digit images you have seen in the previous homework, and a label. The labels correspond to the type of clothing, as follows:\n",
    "\n",
    "| Label | Description |\n",
    "| --- | --- |\n",
    "| 0 | T-shirt/top |\n",
    "| 1 | Trouser |\n",
    "| 2 | Pullover |\n",
    "| 3 | Dress |\n",
    "| 4 | Coat |\n",
    "| 5 | Sandal |\n",
    "| 6 | Shirt |\n",
    "| 7 | Sneaker |\n",
    "| 8 | Bag |\n",
    "| 9 | Ankle boot |"
   ]
  },
  {
   "cell_type": "markdown",
   "metadata": {},
   "source": [
    "Let's first load the required packages."
   ]
  },
  {
   "cell_type": "code",
   "execution_count": 1,
   "metadata": {},
   "outputs": [],
   "source": [
    "#load the required packages\n",
    "\n",
    "%matplotlib inline  \n",
    "\n",
    "import numpy as np\n",
    "import scipy as sp\n",
    "import matplotlib.pyplot as plt\n",
    "\n",
    "import sklearn\n",
    "from sklearn.neural_network import MLPClassifier\n",
    "from sklearn.model_selection import GridSearchCV"
   ]
  },
  {
   "cell_type": "markdown",
   "metadata": {},
   "source": [
    "The following is a function to load the data, that we are going to use later in the notebook."
   ]
  },
  {
   "cell_type": "code",
   "execution_count": 2,
   "metadata": {},
   "outputs": [],
   "source": [
    "# helper function to load Fashion MNIST dataset from disk\n",
    "def load_fashion_mnist(path, kind='train'):\n",
    "    import os\n",
    "    import gzip\n",
    "    import numpy as np\n",
    "    labels_path = os.path.join(path, '%s-labels-idx1-ubyte.gz' % kind)\n",
    "    images_path = os.path.join(path, '%s-images-idx3-ubyte.gz' % kind)\n",
    "    with gzip.open(labels_path, 'rb') as lbpath:\n",
    "        labels = np.frombuffer(lbpath.read(), dtype=np.uint8,offset=8)\n",
    "    with gzip.open(images_path, 'rb') as imgpath:\n",
    "        images = np.frombuffer(imgpath.read(), dtype=np.uint8,offset=16).reshape(len(labels), 784)\n",
    "    return images, labels"
   ]
  },
  {
   "cell_type": "markdown",
   "metadata": {},
   "source": [
    "## TO DO 0\n",
    "Place your ID (\"numero di matricola\") that will be used as seed for random generator. Change the ID number in case you observe unexpected behaviours and want to test if this is due to randomization (e.g., train/test split). If you change the ID number explain why you have change it."
   ]
  },
  {
   "cell_type": "code",
   "execution_count": 3,
   "metadata": {},
   "outputs": [],
   "source": [
    "ID = \n",
    "\n",
    "np.random.seed(ID)"
   ]
  },
  {
   "cell_type": "markdown",
   "metadata": {},
   "source": [
    "Now we load the dataset using the function above."
   ]
  },
  {
   "cell_type": "code",
   "execution_count": 4,
   "metadata": {},
   "outputs": [],
   "source": [
    "#load the fashion MNIST dataset and normalize the features so that each value is in [0,1]\n",
    "X, y = load_fashion_mnist(\"data\")\n",
    "# rescale the data\n",
    "X = X / 255.0"
   ]
  },
  {
   "cell_type": "markdown",
   "metadata": {},
   "source": [
    "Now we split the data into training and test. Make sure that each label is present at least 10 times\n",
    "in the training set."
   ]
  },
  {
   "cell_type": "code",
   "execution_count": 5,
   "metadata": {},
   "outputs": [
    {
     "name": "stdout",
     "output_type": "stream",
     "text": [
      "Labels in training dataset:  [0 1 2 3 4 5 6 7 8 9]\n",
      "Frequencies in training dataset:  [46 56 40 56 59 51 40 54 52 46]\n"
     ]
    }
   ],
   "source": [
    "#random permute the data and split into training and test taking the first 500\n",
    "#data samples as training and the rest as test\n",
    "permutation = np.random.permutation(X.shape[0])\n",
    "\n",
    "X = X[permutation]\n",
    "y = y[permutation]\n",
    "\n",
    "m_training = 500\n",
    "\n",
    "X_train, X_test = X[:m_training], X[m_training:]\n",
    "y_train, y_test = y[:m_training], y[m_training:]\n",
    "\n",
    "labels, freqs = np.unique(y_train, return_counts=True)\n",
    "print(\"Labels in training dataset: \", labels)\n",
    "print(\"Frequencies in training dataset: \", freqs)\n"
   ]
  },
  {
   "cell_type": "markdown",
   "metadata": {},
   "source": [
    "The following function plots an image and the corresponding label, to be used to inspect the data when needed."
   ]
  },
  {
   "cell_type": "code",
   "execution_count": 6,
   "metadata": {},
   "outputs": [],
   "source": [
    "#function for plotting a image and printing the corresponding label\n",
    "def plot_input(X_matrix, labels, index):\n",
    "    print(\"INPUT:\")\n",
    "    plt.imshow(\n",
    "        X_matrix[index].reshape(28,28),\n",
    "        cmap          = plt.cm.gray_r,\n",
    "        interpolation = \"nearest\"\n",
    "    )\n",
    "    plt.show()\n",
    "    print(\"LABEL: %i\"%labels[index])\n",
    "    return"
   ]
  },
  {
   "cell_type": "markdown",
   "metadata": {},
   "source": [
    "Now let's test the function above and check few images."
   ]
  },
  {
   "cell_type": "code",
   "execution_count": 7,
   "metadata": {},
   "outputs": [
    {
     "name": "stdout",
     "output_type": "stream",
     "text": [
      "INPUT:\n"
     ]
    },
    {
     "data": {
      "image/png": "[encoded data removed]",
      "text/plain": [
       "<Figure size 432x288 with 1 Axes>"
      ]
     },
     "metadata": {
      "needs_background": "light"
     },
     "output_type": "display_data"
    },
    {
     "name": "stdout",
     "output_type": "stream",
     "text": [
      "LABEL: 4\n",
      "INPUT:\n"
     ]
    },
    {
     "data": {
      "image/png": "[encoded data removed]",
      "text/plain": [
       "<Figure size 432x288 with 1 Axes>"
      ]
     },
     "metadata": {
      "needs_background": "light"
     },
     "output_type": "display_data"
    },
    {
     "name": "stdout",
     "output_type": "stream",
     "text": [
      "LABEL: 2\n",
      "INPUT:\n"
     ]
    },
    {
     "data": {
      "image/png": "[encoded data removed]",
      "text/plain": [
       "<Figure size 432x288 with 1 Axes>"
      ]
     },
     "metadata": {
      "needs_background": "light"
     },
     "output_type": "display_data"
    },
    {
     "name": "stdout",
     "output_type": "stream",
     "text": [
      "LABEL: 2\n"
     ]
    }
   ],
   "source": [
    "#let's try the plotting function\n",
    "plot_input(X_train,y_train,10)\n",
    "plot_input(X_test,y_test,50)\n",
    "plot_input(X_test,y_test,300)"
   ]
  },
  {
   "cell_type": "markdown",
   "metadata": {},
   "source": [
    "## TO DO 1\n",
    "\n",
    "Now use a (feed-forward) Neural Network for prediction. Use the multi-layer perceptron (MLP) classifier MLPClassifier(...) in scikit-learn, with the following parameters: max_iter=300, alpha=1e-4, solver='sgd', tol=1e-4, learning_rate_init=.1, random_state=ID (this last parameter ensures the run is the same even if you run it more than once). The alpha parameter is the regularization parameter for L2 regularization that is used by the MLP in sklearn.\n",
    "\n",
    "Then, using the default activation function, pick four or five architectures to consider, with different numbers of hidden layers and different sizes. It is not necessary to create huge neural networks, you can limit to 3 layers and, for each layer, its maximum size can be of 100. You can evaluate the architectures you chose using the GridSearchCV with a 5-fold cross-validation, and use the results to pick the best architecture. The code below provides some architectures you can use, but you can choose other ones if you prefer.\n"
   ]
  },
  {
   "cell_type": "code",
   "execution_count": 8,
   "metadata": {},
   "outputs": [
    {
     "name": "stdout",
     "output_type": "stream",
     "text": [
      "RESULTS FOR NN\n",
      "\n",
      "Best parameters set found:\n"
     ]
    },
    {
     "name": "stderr",
     "output_type": "stream",
     "text": [
      "C:\\Users\\lenovo\\anaconda3\\lib\\site-packages\\sklearn\\neural_network\\_multilayer_perceptron.py:582: ConvergenceWarning: Stochastic Optimizer: Maximum iterations (300) reached and the optimization hasn't converged yet.\n",
      "  warnings.warn(\n"
     ]
    },
    {
     "name": "stdout",
     "output_type": "stream",
     "text": [
      "{'hidden_layer_sizes': (50,)}\n",
      "Score with best parameters:\n",
      "0.774\n",
      "\n",
      "All scores on the grid:\n",
      "[0.686 0.774 0.58  0.764]\n"
     ]
    }
   ],
   "source": [
    "#MLPclassifier requires in input the parameter hidden_layer_sizes, that is a tuple specifying the number of \n",
    "#neurons in the hidden layers; for example: (10,) means that there is only 1 hidden layer with 10 neurons; \n",
    "#(10,50) means that there are 2 hidden layers, the first with 10 neurons, the second with 50 neurons\n",
    "\n",
    "#these are examples of possible architectures you can test, but feel free to use different architectures! \n",
    "hl_parameters = {'hidden_layer_sizes': [(10,), (50,), (10,10,), (50,50,)]}\n",
    "\n",
    "mlp_cv = MLPClassifier(hidden_layer_sizes=hl_parameters, solver ='sgd', random_state = ID, max_iter=300,alpha=1e-4,tol=1e-4, learning_rate_init=.1)\n",
    "    \n",
    "print ('RESULTS FOR NN\\n')\n",
    "\n",
    "print(\"Best parameters set found:\")\n",
    "mlp_GS = GridSearchCV(mlp_cv,cv=5, param_grid=mlp_cv.hidden_layer_sizes)\n",
    "mlp_GS.fit(X_train,y_train)\n",
    "print(mlp_GS.best_params_)\n",
    "\n",
    "print(\"Score with best parameters:\")\n",
    "print(mlp_GS.best_score_)\n",
    "\n",
    "print(\"\\nAll scores on the grid:\")\n",
    "print(mlp_GS.cv_results_[\"mean_test_score\"])"
   ]
  },
  {
   "cell_type": "markdown",
   "metadata": {},
   "source": [
    "## TO DO 2\n",
    "\n",
    "What do you observe for different architectures and their scores? How do the number of layers and their sizes affect the performances?"
   ]
  },
  {
   "cell_type": "markdown",
   "metadata": {},
   "source": [
    "The best setting was the one hidden layer of 50 neurons. From these results i can assume that having more neurons per layer helps with the fitting process."
   ]
  },
  {
   "cell_type": "markdown",
   "metadata": {},
   "source": [
    "## TO DO 3\n",
    "\n",
    "Now get training and test error (according to the initial split) for a NN with best parameters chosen from the cross-validation above (and learning the NN weights from the entire training set). Use verbose=True\n",
    "in input so to see how loss changes in iterations. (Note that the loss used by the MLPclassifier may be different from the 0-1 loss, also called *accuracy*.)"
   ]
  },
  {
   "cell_type": "code",
   "execution_count": 9,
   "metadata": {},
   "outputs": [
    {
     "name": "stdout",
     "output_type": "stream",
     "text": [
      "Iteration 1, loss = 2.16570402\n",
      "Iteration 2, loss = 1.68565160\n",
      "Iteration 3, loss = 1.05965869\n",
      "Iteration 4, loss = 1.71000054\n",
      "Iteration 5, loss = 1.30352218\n",
      "Iteration 6, loss = 0.81386019\n",
      "Iteration 7, loss = 0.69152626\n",
      "Iteration 8, loss = 0.63437981\n",
      "Iteration 9, loss = 0.59508734\n",
      "Iteration 10, loss = 0.57510102\n",
      "Iteration 11, loss = 0.49359174\n",
      "Iteration 12, loss = 0.48016959\n",
      "Iteration 13, loss = 0.51436668\n",
      "Iteration 14, loss = 0.44718007\n",
      "Iteration 15, loss = 0.39864241\n",
      "Iteration 16, loss = 0.41315909\n",
      "Iteration 17, loss = 0.38791997\n",
      "Iteration 18, loss = 0.31329786\n",
      "Iteration 19, loss = 0.28814476\n",
      "Iteration 20, loss = 0.30752061\n",
      "Iteration 21, loss = 0.24897931\n",
      "Iteration 22, loss = 0.24435094\n",
      "Iteration 23, loss = 0.22244692\n",
      "Iteration 24, loss = 0.27899071\n",
      "Iteration 25, loss = 0.25303724\n",
      "Iteration 26, loss = 0.24408295\n",
      "Iteration 27, loss = 0.17804929\n",
      "Iteration 28, loss = 0.14613868\n",
      "Iteration 29, loss = 0.17388144\n",
      "Iteration 30, loss = 0.12736561\n",
      "Iteration 31, loss = 0.13130573\n",
      "Iteration 32, loss = 0.11956056\n",
      "Iteration 33, loss = 0.10299923\n",
      "Iteration 34, loss = 0.09542680\n",
      "Iteration 35, loss = 0.08580870\n",
      "Iteration 36, loss = 0.09824880\n",
      "Iteration 37, loss = 0.08377145\n",
      "Iteration 38, loss = 0.07855015\n",
      "Iteration 39, loss = 0.06109782\n",
      "Iteration 40, loss = 0.06110721\n",
      "Iteration 41, loss = 0.04934927\n",
      "Iteration 42, loss = 0.04520078\n",
      "Iteration 43, loss = 0.04395894\n",
      "Iteration 44, loss = 0.04615464\n",
      "Iteration 45, loss = 0.03647138\n",
      "Iteration 46, loss = 0.03538248\n",
      "Iteration 47, loss = 0.03316874\n",
      "Iteration 48, loss = 0.03297496\n",
      "Iteration 49, loss = 0.02796437\n",
      "Iteration 50, loss = 0.02691787\n",
      "Iteration 51, loss = 0.02672541\n",
      "Iteration 52, loss = 0.02527368\n",
      "Iteration 53, loss = 0.02327638\n",
      "Iteration 54, loss = 0.02176848\n",
      "Iteration 55, loss = 0.02151579\n",
      "Iteration 56, loss = 0.02016253\n",
      "Iteration 57, loss = 0.01877081\n",
      "Iteration 58, loss = 0.01880570\n",
      "Iteration 59, loss = 0.01934162\n",
      "Iteration 60, loss = 0.01755904\n",
      "Iteration 61, loss = 0.01673629\n",
      "Iteration 62, loss = 0.01576217\n",
      "Iteration 63, loss = 0.01529697\n",
      "Iteration 64, loss = 0.01503069\n",
      "Iteration 65, loss = 0.01426944\n",
      "Iteration 66, loss = 0.01433950\n",
      "Iteration 67, loss = 0.01349524\n",
      "Iteration 68, loss = 0.01349002\n",
      "Iteration 69, loss = 0.01299041\n",
      "Iteration 70, loss = 0.01258402\n",
      "Iteration 71, loss = 0.01217169\n",
      "Iteration 72, loss = 0.01176892\n",
      "Iteration 73, loss = 0.01172940\n",
      "Iteration 74, loss = 0.01102883\n",
      "Iteration 75, loss = 0.01076468\n",
      "Iteration 76, loss = 0.01080247\n",
      "Iteration 77, loss = 0.01038297\n",
      "Iteration 78, loss = 0.01018813\n",
      "Iteration 79, loss = 0.00978241\n",
      "Iteration 80, loss = 0.00960614\n",
      "Iteration 81, loss = 0.00939250\n",
      "Iteration 82, loss = 0.00920242\n",
      "Iteration 83, loss = 0.00900483\n",
      "Iteration 84, loss = 0.00876521\n",
      "Iteration 85, loss = 0.00868672\n",
      "Iteration 86, loss = 0.00842984\n",
      "Iteration 87, loss = 0.00824944\n",
      "Iteration 88, loss = 0.00810127\n",
      "Iteration 89, loss = 0.00797900\n",
      "Iteration 90, loss = 0.00791402\n",
      "Iteration 91, loss = 0.00763435\n",
      "Iteration 92, loss = 0.00755249\n",
      "Iteration 93, loss = 0.00738513\n",
      "Iteration 94, loss = 0.00728728\n",
      "Iteration 95, loss = 0.00711362\n",
      "Iteration 96, loss = 0.00700622\n",
      "Iteration 97, loss = 0.00687873\n",
      "Iteration 98, loss = 0.00682526\n",
      "Iteration 99, loss = 0.00675385\n",
      "Iteration 100, loss = 0.00646842\n",
      "Iteration 101, loss = 0.00645939\n",
      "Iteration 102, loss = 0.00630219\n",
      "Iteration 103, loss = 0.00624423\n",
      "Iteration 104, loss = 0.00624127\n",
      "Iteration 105, loss = 0.00615589\n",
      "Iteration 106, loss = 0.00599604\n",
      "Iteration 107, loss = 0.00588519\n",
      "Iteration 108, loss = 0.00575829\n",
      "Iteration 109, loss = 0.00567730\n",
      "Iteration 110, loss = 0.00563206\n",
      "Iteration 111, loss = 0.00551627\n",
      "Iteration 112, loss = 0.00551953\n",
      "Iteration 113, loss = 0.00538085\n",
      "Iteration 114, loss = 0.00528042\n",
      "Iteration 115, loss = 0.00523761\n",
      "Iteration 116, loss = 0.00512799\n",
      "Iteration 117, loss = 0.00513313\n",
      "Iteration 118, loss = 0.00501164\n",
      "Iteration 119, loss = 0.00495472\n",
      "Iteration 120, loss = 0.00490030\n",
      "Iteration 121, loss = 0.00490737\n",
      "Iteration 122, loss = 0.00479713\n",
      "Iteration 123, loss = 0.00477756\n",
      "Iteration 124, loss = 0.00467957\n",
      "Iteration 125, loss = 0.00461418\n",
      "Iteration 126, loss = 0.00456527\n",
      "Iteration 127, loss = 0.00449203\n",
      "Iteration 128, loss = 0.00449300\n",
      "Iteration 129, loss = 0.00440926\n",
      "Iteration 130, loss = 0.00433677\n",
      "Iteration 131, loss = 0.00430197\n",
      "Iteration 132, loss = 0.00426900\n",
      "Iteration 133, loss = 0.00423755\n",
      "Training loss did not improve more than tol=0.000100 for 10 consecutive epochs. Stopping.\n",
      "\n",
      "RESULTS FOR BEST NN\n",
      "\n",
      "Best NN training error: 0.000000\n",
      "Best NN test error: 0.217580\n"
     ]
    }
   ],
   "source": [
    "#get training and test error for the best NN model from CV\n",
    "\n",
    "mlp = MLPClassifier(mlp_GS.best_params_['hidden_layer_sizes'], max_iter=300, alpha=1e-4, \n",
    "                    solver='sgd', tol=1e-4, learning_rate_init=.1, random_state=ID, verbose=True)\n",
    "\n",
    "mlp.fit(X_train, y_train)\n",
    "\n",
    "training_error = 1. - mlp.score(X_train,y_train)\n",
    "\n",
    "test_error = 1. - mlp.score(X_test,y_test)\n",
    "\n",
    "print ('\\nRESULTS FOR BEST NN\\n')\n",
    "\n",
    "print (\"Best NN training error: %f\" % training_error)\n",
    "print (\"Best NN test error: %f\" % test_error)\n"
   ]
  },
  {
   "cell_type": "markdown",
   "metadata": {},
   "source": [
    "## More data \n",
    "Now let's do the same but using 10000 (or less if it takes too long on your machine) data points for training. Use the same NN architectures as before, but you can try more if you want!"
   ]
  },
  {
   "cell_type": "code",
   "execution_count": 10,
   "metadata": {},
   "outputs": [
    {
     "name": "stdout",
     "output_type": "stream",
     "text": [
      "Labels and frequencies in training dataset: \n"
     ]
    },
    {
     "data": {
      "text/plain": [
       "(array([0, 1, 2, 3, 4, 5, 6, 7, 8, 9], dtype=uint8),\n",
       " array([1023,  955, 1040,  999,  963, 1019,  998,  994, 1008, 1001],\n",
       "       dtype=int64))"
      ]
     },
     "execution_count": 10,
     "metadata": {},
     "output_type": "execute_result"
    }
   ],
   "source": [
    "X = X[permutation]\n",
    "y = y[permutation]\n",
    "\n",
    "m_training = 10000\n",
    "\n",
    "X_train, X_test = X[:m_training], X[m_training:]\n",
    "y_train, y_test = y[:m_training], y[m_training:]\n",
    "\n",
    "print(\"Labels and frequencies in training dataset: \")\n",
    "np.unique(y_train, return_counts=True)"
   ]
  },
  {
   "cell_type": "markdown",
   "metadata": {},
   "source": [
    "## TO DO 4\n",
    "\n",
    "Now train the NNs with the added data points. Feel free to try more different architectures than before if you want, or less if it takes too much time. You can use 'verbose=True' so have an idea of how long it takes to run 1 iteration (eventually reduce also the number of iterations to 50)."
   ]
  },
  {
   "cell_type": "code",
   "execution_count": 11,
   "metadata": {},
   "outputs": [
    {
     "name": "stdout",
     "output_type": "stream",
     "text": [
      "RESULTS FOR NN\n",
      "\n",
      "Best parameters set found:\n",
      "{'hidden_layer_sizes': (50,)}\n",
      "Score with best parameters:\n",
      "0.8397\n",
      "\n",
      "All scores on the grid:\n",
      "[0.7959 0.8397 0.8074 0.8378]\n"
     ]
    }
   ],
   "source": [
    "#for NN we try the same architectures as before\n",
    "hl_parameters = {'hidden_layer_sizes': [(10,), (50,), (10,10,), (50,50,)]}\n",
    "\n",
    "mlp_large_cv = MLPClassifier(mlp_GS.best_params_['hidden_layer_sizes'], solver='sgd',random_state=ID,max_iter=300,alpha=1e-4,tol=1e-4, learning_rate_init=.1,verbose=True)\n",
    "\n",
    "print ('RESULTS FOR NN\\n')\n",
    "\n",
    "print(\"Best parameters set found:\")\n",
    "mlp_GS = GridSearchCV(mlp_cv,cv=5, param_grid=mlp_cv.hidden_layer_sizes)\n",
    "mlp_GS.fit(X_train,y_train)\n",
    "print(mlp_GS.best_params_)\n",
    "\n",
    "print(\"Score with best parameters:\")\n",
    "print(mlp_GS.best_score_)\n",
    "\n",
    "print(\"\\nAll scores on the grid:\")\n",
    "print(mlp_GS.cv_results_[\"mean_test_score\"])"
   ]
  },
  {
   "cell_type": "markdown",
   "metadata": {},
   "source": [
    "## TO DO 5\n",
    "The results are higher than before but still the one with hidden layer and 50 neurons has a higher score."
   ]
  },
  {
   "cell_type": "markdown",
   "metadata": {},
   "source": [
    "## TO DO 6\n",
    "\n",
    "Get the train and test error for the best NN you obtained with 10000 points. This time you can run for 100 iterations if you cannot run for 300 iterations. \n"
   ]
  },
  {
   "cell_type": "code",
   "execution_count": 12,
   "metadata": {},
   "outputs": [
    {
     "name": "stdout",
     "output_type": "stream",
     "text": [
      "Iteration 1, loss = 0.90463310\n",
      "Iteration 2, loss = 0.51667161\n",
      "Iteration 3, loss = 0.45555401\n",
      "Iteration 4, loss = 0.41485070\n",
      "Iteration 5, loss = 0.38704983\n",
      "Iteration 6, loss = 0.37668611\n",
      "Iteration 7, loss = 0.34902968\n",
      "Iteration 8, loss = 0.33909819\n",
      "Iteration 9, loss = 0.32363015\n",
      "Iteration 10, loss = 0.30475141\n",
      "Iteration 11, loss = 0.29481223\n",
      "Iteration 12, loss = 0.28522020\n",
      "Iteration 13, loss = 0.27362465\n",
      "Iteration 14, loss = 0.26839482\n",
      "Iteration 15, loss = 0.25414127\n",
      "Iteration 16, loss = 0.24726214\n",
      "Iteration 17, loss = 0.23720077\n",
      "Iteration 18, loss = 0.23381445\n",
      "Iteration 19, loss = 0.23342365\n",
      "Iteration 20, loss = 0.21444819\n",
      "Iteration 21, loss = 0.21713332\n",
      "Iteration 22, loss = 0.19696609\n",
      "Iteration 23, loss = 0.20675716\n",
      "Iteration 24, loss = 0.19969967\n",
      "Iteration 25, loss = 0.18627054\n",
      "Iteration 26, loss = 0.18504498\n",
      "Iteration 27, loss = 0.18787983\n",
      "Iteration 28, loss = 0.17648093\n",
      "Iteration 29, loss = 0.16844241\n",
      "Iteration 30, loss = 0.16627050\n",
      "Iteration 31, loss = 0.16795922\n",
      "Iteration 32, loss = 0.15603901\n",
      "Iteration 33, loss = 0.15891151\n",
      "Iteration 34, loss = 0.14601353\n",
      "Iteration 35, loss = 0.14329577\n",
      "Iteration 36, loss = 0.14677709\n",
      "Iteration 37, loss = 0.14815971\n",
      "Iteration 38, loss = 0.13415869\n",
      "Iteration 39, loss = 0.13183720\n",
      "Iteration 40, loss = 0.14675703\n",
      "Iteration 41, loss = 0.12230717\n",
      "Iteration 42, loss = 0.11367399\n",
      "Iteration 43, loss = 0.11433459\n",
      "Iteration 44, loss = 0.11300515\n",
      "Iteration 45, loss = 0.10765861\n",
      "Iteration 46, loss = 0.11966583\n",
      "Iteration 47, loss = 0.12255434\n",
      "Iteration 48, loss = 0.09934875\n",
      "Iteration 49, loss = 0.09672668\n",
      "Iteration 50, loss = 0.10388274\n",
      "Iteration 51, loss = 0.10286877\n",
      "Iteration 52, loss = 0.09054432\n",
      "Iteration 53, loss = 0.08915508\n",
      "Iteration 54, loss = 0.10068903\n",
      "Iteration 55, loss = 0.08802680\n",
      "Iteration 56, loss = 0.08947210\n",
      "Iteration 57, loss = 0.08839251\n",
      "Iteration 58, loss = 0.07762967\n",
      "Iteration 59, loss = 0.07157276\n",
      "Iteration 60, loss = 0.09534484\n",
      "Iteration 61, loss = 0.07991198\n",
      "Iteration 62, loss = 0.07158403\n",
      "Iteration 63, loss = 0.06554947\n",
      "Iteration 64, loss = 0.08559928\n",
      "Iteration 65, loss = 0.07540387\n",
      "Iteration 66, loss = 0.08208457\n",
      "Iteration 67, loss = 0.07513262\n",
      "Iteration 68, loss = 0.05718388\n",
      "Iteration 69, loss = 0.05821051\n",
      "Iteration 70, loss = 0.07271918\n",
      "Iteration 71, loss = 0.06354923\n",
      "Iteration 72, loss = 0.06539933\n",
      "Iteration 73, loss = 0.07963065\n",
      "Iteration 74, loss = 0.06012172\n",
      "Iteration 75, loss = 0.06202988\n",
      "Iteration 76, loss = 0.05094115\n",
      "Iteration 77, loss = 0.05025943\n",
      "Iteration 78, loss = 0.04587094\n",
      "Iteration 79, loss = 0.05645026\n",
      "Iteration 80, loss = 0.05768601\n",
      "Iteration 81, loss = 0.04868618\n",
      "Iteration 82, loss = 0.07066354\n",
      "Iteration 83, loss = 0.05713966\n",
      "Iteration 84, loss = 0.04149123\n",
      "Iteration 85, loss = 0.04051199\n",
      "Iteration 86, loss = 0.04386186\n",
      "Iteration 87, loss = 0.03947887\n",
      "Iteration 88, loss = 0.04316275\n",
      "Iteration 89, loss = 0.03103011\n",
      "Iteration 90, loss = 0.04001010\n",
      "Iteration 91, loss = 0.05132797\n",
      "Iteration 92, loss = 0.06945442\n",
      "Iteration 93, loss = 0.04257151\n",
      "Iteration 94, loss = 0.04176302\n",
      "Iteration 95, loss = 0.02804401\n",
      "Iteration 96, loss = 0.02687009\n",
      "Iteration 97, loss = 0.02694849\n",
      "Iteration 98, loss = 0.02721618\n",
      "Iteration 99, loss = 0.03506345\n",
      "Iteration 100, loss = 0.04330852\n",
      "Iteration 101, loss = 0.02256082\n",
      "Iteration 102, loss = 0.03162166\n",
      "Iteration 103, loss = 0.03334147\n",
      "Iteration 104, loss = 0.02335983\n",
      "Iteration 105, loss = 0.01930567\n",
      "Iteration 106, loss = 0.01735172\n",
      "Iteration 107, loss = 0.02061593\n",
      "Iteration 108, loss = 0.02148404\n",
      "Iteration 109, loss = 0.02542971\n",
      "Iteration 110, loss = 0.02364509\n",
      "Iteration 111, loss = 0.02893134\n",
      "Iteration 112, loss = 0.03525462\n",
      "Iteration 113, loss = 0.07650268\n",
      "Iteration 114, loss = 0.04571003\n",
      "Iteration 115, loss = 0.02240065\n",
      "Iteration 116, loss = 0.01774860\n",
      "Iteration 117, loss = 0.01335993\n",
      "Iteration 118, loss = 0.01026665\n",
      "Iteration 119, loss = 0.02053601\n",
      "Iteration 120, loss = 0.04530464\n",
      "Iteration 121, loss = 0.02715444\n",
      "Iteration 122, loss = 0.03074992\n",
      "Iteration 123, loss = 0.02298525\n",
      "Iteration 124, loss = 0.01948804\n",
      "Iteration 125, loss = 0.01085153\n",
      "Iteration 126, loss = 0.00922596\n",
      "Iteration 127, loss = 0.01313797\n",
      "Iteration 128, loss = 0.03081757\n",
      "Iteration 129, loss = 0.01066127\n",
      "Iteration 130, loss = 0.00933921\n",
      "Iteration 131, loss = 0.01087377\n",
      "Iteration 132, loss = 0.00761618\n",
      "Iteration 133, loss = 0.00813290\n",
      "Iteration 134, loss = 0.00912624\n",
      "Iteration 135, loss = 0.00580038\n",
      "Iteration 136, loss = 0.00590238\n",
      "Iteration 137, loss = 0.00535532\n",
      "Iteration 138, loss = 0.02955417\n",
      "Iteration 139, loss = 0.01969132\n",
      "Iteration 140, loss = 0.01433815\n",
      "Iteration 141, loss = 0.00940376\n",
      "Iteration 142, loss = 0.00598217\n",
      "Iteration 143, loss = 0.00467024\n",
      "Iteration 144, loss = 0.00423249\n",
      "Iteration 145, loss = 0.00446292\n",
      "Iteration 146, loss = 0.00444840\n",
      "Iteration 147, loss = 0.00381076\n",
      "Iteration 148, loss = 0.00316584\n",
      "Iteration 149, loss = 0.00325253\n",
      "Iteration 150, loss = 0.00425310\n",
      "Iteration 151, loss = 0.00458778\n",
      "Iteration 152, loss = 0.00380783\n",
      "Iteration 153, loss = 0.00306668\n",
      "Iteration 154, loss = 0.00282443\n",
      "Iteration 155, loss = 0.00260717\n",
      "Iteration 156, loss = 0.00269065\n",
      "Iteration 157, loss = 0.00254540\n",
      "Iteration 158, loss = 0.00261128\n",
      "Iteration 159, loss = 0.00244124\n",
      "Iteration 160, loss = 0.00241886\n",
      "Iteration 161, loss = 0.00231313\n",
      "Iteration 162, loss = 0.00234868\n",
      "Iteration 163, loss = 0.00230197\n",
      "Iteration 164, loss = 0.00229439\n",
      "Iteration 165, loss = 0.00231684\n",
      "Iteration 166, loss = 0.00229400\n",
      "Iteration 167, loss = 0.00267903\n",
      "Iteration 168, loss = 0.00217461\n",
      "Iteration 169, loss = 0.00211575\n",
      "Iteration 170, loss = 0.00207421\n",
      "Iteration 171, loss = 0.00202452\n",
      "Iteration 172, loss = 0.00203878\n",
      "Iteration 173, loss = 0.00200456\n",
      "Iteration 174, loss = 0.00201068\n",
      "Iteration 175, loss = 0.00198089\n",
      "Iteration 176, loss = 0.00197154\n",
      "Iteration 177, loss = 0.00210727\n",
      "Iteration 178, loss = 0.00194993\n",
      "Iteration 179, loss = 0.00187618\n",
      "Training loss did not improve more than tol=0.000100 for 10 consecutive epochs. Stopping.\n",
      "RESULTS FOR BEST NN\n",
      "\n",
      "Best NN training error: 0.000000\n",
      "Best NN test error: 0.149200\n"
     ]
    }
   ],
   "source": [
    "#get training and test error for the best NN model from CV\n",
    "\n",
    "best_mlp_large = MLPClassifier(mlp_GS.best_params_['hidden_layer_sizes'], solver='sgd',random_state=ID,max_iter=300,alpha=1e-4,tol=1e-4, learning_rate_init=.1,verbose=True)\n",
    "\n",
    "best_mlp_large.fit(X_train,y_train)\n",
    "\n",
    "training_error =1. - best_mlp_large.score(X_train,y_train)\n",
    "\n",
    "test_error = 1. - best_mlp_large.score(X_test,y_test)\n",
    "\n",
    "print ('RESULTS FOR BEST NN\\n')\n",
    "\n",
    "print (\"Best NN training error: %f\" % training_error)\n",
    "print (\"Best NN test error: %f\" % test_error)"
   ]
  },
  {
   "cell_type": "markdown",
   "metadata": {},
   "source": [
    "## TO DO 7\n",
    "\n",
    "Compare the train and test error you got with a large number of samples with the best one you obtained with only 500 data points. Are the architectures the same or do they differ? What about the errors you get?"
   ]
  },
  {
   "cell_type": "markdown",
   "metadata": {},
   "source": [
    "The architectures are almost the same, what it changes its the model complexity. The test error here is smaller than before."
   ]
  },
  {
   "cell_type": "markdown",
   "metadata": {},
   "source": [
    "## TO DO 8\n",
    "\n",
    "Plot an image that was missclassified by NN with m=500 training data points and it is now instead correctly classified by NN with m=10000 training data points."
   ]
  },
  {
   "cell_type": "code",
   "execution_count": 13,
   "metadata": {},
   "outputs": [
    {
     "name": "stdout",
     "output_type": "stream",
     "text": [
      "Posizione 7: a = 2 b = 6 true_label = 6\n",
      "INPUT:\n"
     ]
    },
    {
     "data": {
      "image/png": "[encoded data removed]",
      "text/plain": [
       "<Figure size 432x288 with 1 Axes>"
      ]
     },
     "metadata": {
      "needs_background": "light"
     },
     "output_type": "display_data"
    },
    {
     "name": "stdout",
     "output_type": "stream",
     "text": [
      "LABEL: 6\n"
     ]
    }
   ],
   "source": [
    "best_mlp_predictor = mlp.predict(X_train)\n",
    "best_mlp_large_predictor = best_mlp_large.predict(X_train)\n",
    "for i in range (0,len(X_train)):\n",
    "    a = best_mlp_predictor[i]\n",
    "    b = best_mlp_large_predictor[i]\n",
    "    true_label = y_train[i]\n",
    "\n",
    "    if(a != b & b == true_label):\n",
    "        print(\"Posizione \" + str(i) + \": \" + \"a = \" + str(a) + \" b = \" + str(b) + \" true_label = \" + str(true_label))\n",
    "        plot_input(X_train,y_train,i)\n",
    "        break\n",
    "\n"
   ]
  },
  {
   "cell_type": "markdown",
   "metadata": {},
   "source": [
    "Let's plot some of the weigths of the multi-layer perceptron classifier, for the best NN we get with 500 data points and with 10000 data points. The code below plots the weights in a matrix form, where a figure represents all the weights of the edges entering in a hidden node. Notice that the code assumes that the NNs are called \"mlp\" and \"best_mlp_large\": you may need to replace such variables with your variable names. \n",
    "\n"
   ]
  },
  {
   "cell_type": "code",
   "execution_count": 14,
   "metadata": {},
   "outputs": [
    {
     "name": "stdout",
     "output_type": "stream",
     "text": [
      "Weights with 500 data points:\n"
     ]
    },
    {
     "data": {
      "image/png": "[encoded data removed]",
      "text/plain": [
       "<Figure size 432x288 with 16 Axes>"
      ]
     },
     "metadata": {},
     "output_type": "display_data"
    },
    {
     "name": "stdout",
     "output_type": "stream",
     "text": [
      "Weights with 10000 data points:\n"
     ]
    },
    {
     "data": {
      "image/png": "[encoded data removed]",
      "text/plain": [
       "<Figure size 432x288 with 16 Axes>"
      ]
     },
     "metadata": {},
     "output_type": "display_data"
    }
   ],
   "source": [
    "print(\"Weights with 500 data points:\")\n",
    "\n",
    "fig, axes = plt.subplots(4, 4)\n",
    "vmin, vmax = mlp.coefs_[0].min(), mlp.coefs_[0].max()\n",
    "for coef, ax in zip(mlp.coefs_[0].T, axes.ravel()):\n",
    "    ax.matshow(coef.reshape(28, 28), cmap=plt.cm.gray, vmin=.5 * vmin, vmax=.5 * vmax)\n",
    "    ax.set_xticks(())\n",
    "    ax.set_yticks(())\n",
    "\n",
    "plt.show()\n",
    "\n",
    "print(\"Weights with 10000 data points:\")\n",
    "\n",
    "fig, axes = plt.subplots(4, 4)\n",
    "vmin, vmax = best_mlp_large.coefs_[0].min(), best_mlp_large.coefs_[0].max()\n",
    "for coef, ax in zip(best_mlp_large.coefs_[0].T, axes.ravel()):\n",
    "    ax.matshow(coef.reshape(28, 28), cmap=plt.cm.gray, vmin=.5 * vmin, vmax=.5 * vmax)\n",
    "    ax.set_xticks(())\n",
    "    ax.set_yticks(())\n",
    "plt.show()"
   ]
  },
  {
   "cell_type": "markdown",
   "metadata": {},
   "source": [
    "## TO DO 9\n",
    "\n",
    "Describe what do you observe by looking at the weights.\n",
    "\n",
    "Using more data points on weights we have sharper images  "
   ]
  },
  {
   "cell_type": "markdown",
   "metadata": {},
   "source": [
    "## TO DO 10\n",
    "\n",
    "Pick another classifier among the ones we have seen previously (SVM or something else). Report the training and test error for such classifier with 10000 samples in the training set, if possible; if the classifier cannot run with so many data sample reduce the number of samples.\n",
    "\n",
    "*Note*: if there are parameters to be optimized use cross-validation. If you choose SVM, you can decide if you want to use a single kernel or use the best among many; in the latter case, you need to pick the best kernel using cross-validation (using the functions available in sklearn).\n",
    "\n",
    "I'm using the SVM classifier with rbf kernel. The parameters are the same of the SVM jupyter file, i've just changed the dimension of training and test set because it took too much time to compute."
   ]
  },
  {
   "cell_type": "code",
   "execution_count": 16,
   "metadata": {},
   "outputs": [
    {
     "name": "stdout",
     "output_type": "stream",
     "text": [
      "RESULTS FOR OTHER CLASSIFIER\n",
      "\n",
      "Best training error (other model): 0.000000\n",
      "Best test error (other model): 0.205714\n"
     ]
    }
   ],
   "source": [
    "from sklearn.svm import SVC\n",
    "from sklearn.model_selection import GridSearchCV\n",
    "\n",
    "m_training = 500\n",
    "\n",
    "X_train, X_test = X[:m_training], X[m_training:]\n",
    "y_train, y_test = y[:m_training], y[m_training:]\n",
    "\n",
    "parameters = {'C': [1, 10, 100],'gamma':[0.01,0.1,1.]}\n",
    "rbf_SVM = SVC(kernel='rbf')\n",
    "svm_rbf_GS = GridSearchCV(rbf_SVM, param_grid = parameters, cv = 5)\n",
    "svm_rbf_GS.fit(X_train, y_train)\n",
    "best_SVM = svm_rbf_GS.best_estimator_\n",
    "best_SVM.fit(X_train, y_train)\n",
    "\n",
    "training_error_other = 1. - best_SVM.score(X_train,y_train)\n",
    "\n",
    "test_error_other = 1. - best_SVM.score(X_test,y_test)\n",
    "\n",
    "print ('RESULTS FOR OTHER CLASSIFIER\\n')\n",
    "\n",
    "print (\"Best training error (other model): %f\" % training_error_other)\n",
    "print (\"Best test error (other model): %f\" % test_error_other)"
   ]
  },
  {
   "cell_type": "markdown",
   "metadata": {},
   "source": [
    "## TO DO 11\n",
    "Compare the results of NN and of the other classifier you have chosen above. Which classifier would you preferer? Provide a brief explanation."
   ]
  },
  {
   "cell_type": "markdown",
   "metadata": {},
   "source": [
    "I would prefer the NN since it has the best test error(0.149) which is better than what i got with the SVM(rbf). I reduced the dimension of the training and test set for the SVM due to its lengthy learning mechanism(When i used all data it took too long to process the output)."
   ]
  },
  {
   "cell_type": "markdown",
   "metadata": {},
   "source": [
    "# Clustering with K-means\n",
    "\n",
    "Clustering is a useful technique for *unsupervised* learning. We are now going to cluster 2000 images in the fashion MNIST dataset, and try to understand if the clusters we obtain correspond to the true labels."
   ]
  },
  {
   "cell_type": "code",
   "execution_count": 17,
   "metadata": {},
   "outputs": [],
   "source": [
    "#load the required packages\n",
    "\n",
    "from sklearn import metrics\n",
    "from sklearn.cluster import KMeans"
   ]
  },
  {
   "cell_type": "markdown",
   "metadata": {},
   "source": [
    "(Note that the code below assumes that the data has already been transformed as in the NN part of the notebook, so make sure to run the code for the transformation even if you do not complete the part on NN.)"
   ]
  },
  {
   "cell_type": "code",
   "execution_count": 18,
   "metadata": {},
   "outputs": [],
   "source": [
    "#let's consider only 2000 data points\n",
    "\n",
    "X = X[permutation]\n",
    "y = y[permutation]\n",
    "\n",
    "m_training = 2000\n",
    "\n",
    "X_train, X_test = X[:m_training], X[m_training:]\n",
    "y_train, y_test = y[:m_training], y[m_training:]"
   ]
  },
  {
   "cell_type": "markdown",
   "metadata": {},
   "source": [
    "## TO DO 1\n",
    "Cluster the points using the KMeans() and fit() functions (see the userguide for details). For Kmeans, set: n_clusters=10 as number of clusters; n_init=10 as the number of times the algorithm will be run with different centroid seeds; random_state = ID. You can use the default setting for the other parameters."
   ]
  },
  {
   "cell_type": "code",
   "execution_count": 19,
   "metadata": {},
   "outputs": [
    {
     "data": {
      "text/plain": [
       "KMeans(n_clusters=10, random_state=2005838)"
      ]
     },
     "execution_count": 19,
     "metadata": {},
     "output_type": "execute_result"
    }
   ],
   "source": [
    "kmeans = KMeans(n_clusters=10,n_init=10,random_state = ID)\n",
    "kmeans.fit(X_train,y_train)"
   ]
  },
  {
   "cell_type": "markdown",
   "metadata": {},
   "source": [
    "## Comparison of clusters with true labels"
   ]
  },
  {
   "cell_type": "markdown",
   "metadata": {},
   "source": [
    "## TO DO 2\n",
    "Now compare the obtained clusters with the true labels, using the function sklearn.metrics.cluster.contingency_matrix() (see the userguide for details). The function prints a matrix $A$ such that entry $A_{i,j}$ is is the number of samples in true class $i$ and in predicted class $j$."
   ]
  },
  {
   "cell_type": "code",
   "execution_count": 27,
   "metadata": {},
   "outputs": [
    {
     "data": {
      "text/plain": [
       "array([[ 48,   3,   1,   0,   0,   2,  34,   0,   1,   0,   0,   1,   0,\n",
       "         98,   6],\n",
       "       [ 13,   2,   1, 174,   0,   0,   7,   0,   0,   0,   0,  12,   0,\n",
       "          0,   3],\n",
       "       [ 21,  56,  25,   0,   0,   8,   1,   0,   0,  47,   0,   1,   0,\n",
       "          0,  50],\n",
       "       [ 55,   2,   2,   1,   0,   0,  53,   0,   0,   0,   0,  76,   0,\n",
       "          1,   0],\n",
       "       [  5,  38,  68,   0,   0,   4,  16,   0,   0,  46,   0,   1,   1,\n",
       "          0,  21],\n",
       "       [  3,   0,   0,   0,  23, 139,   0,  32,   1,   0,   2,   0,   0,\n",
       "          0,   0],\n",
       "       [ 32,  37,  29,   1,   0,   6,  19,   0,   0,   6,   0,   0,   2,\n",
       "         16,  30],\n",
       "       [  0,   0,   0,   0,  24,  23,   0, 147,   0,   0,   0,   0,   0,\n",
       "          0,   0],\n",
       "       [ 18,   8,   1,   0,   0,  14,   0,   7,  87,   0,   0,   0,  73,\n",
       "          0,   5],\n",
       "       [  2,   1,   0,   0, 108,   8,   1,   1,   0,   0,  89,   0,   0,\n",
       "          0,   0]])"
      ]
     },
     "execution_count": 27,
     "metadata": {},
     "output_type": "execute_result"
    }
   ],
   "source": [
    "# compute and print the contingency matrix for the true labels vs the clustering assignments\n",
    "sklearn.metrics.cluster.contingency_matrix(y_train, kmeans.predict(X_train), eps=None, sparse=False)"
   ]
  },
  {
   "cell_type": "markdown",
   "metadata": {},
   "source": [
    "## TO DO 3\n",
    "Based on the matrix shown above, comment on the results of clustering in terms of adherence to the true labels.\n",
    "\n",
    "The matrix shows that kmeans did not perform really well for some labels."
   ]
  },
  {
   "cell_type": "markdown",
   "metadata": {},
   "source": [
    "## Choice of k with silhoutte coefficient\n",
    "In many real applications it is unclear what is the correct value of $k$ to use. In practice one tries different values of $k$ and then uses some external score to choose a value of $k$. One such score is the silhoutte coefficient, that can be computed with metrics.silhouette_score(). See the definition of the silhoutte coefficient in the userguide."
   ]
  },
  {
   "cell_type": "markdown",
   "metadata": {},
   "source": [
    "## TO DO 4\n",
    "Compute the clustering for k=2,3,...,15 (other parameters as above) and print the silhoutte coefficient for each such clustering."
   ]
  },
  {
   "cell_type": "code",
   "execution_count": 28,
   "metadata": {},
   "outputs": [
    {
     "name": "stdout",
     "output_type": "stream",
     "text": [
      "Silhoutte coefficient for number of clusters=2: 0.19610110329735175\n",
      "Silhoutte coefficient for number of clusters=3: 0.18491063008394962\n",
      "Silhoutte coefficient for number of clusters=4: 0.1858146902670615\n",
      "Silhoutte coefficient for number of clusters=5: 0.17071088649454327\n",
      "Silhoutte coefficient for number of clusters=6: 0.1609526820782374\n",
      "Silhoutte coefficient for number of clusters=7: 0.16895356945162407\n",
      "Silhoutte coefficient for number of clusters=8: 0.16651361049373964\n",
      "Silhoutte coefficient for number of clusters=9: 0.15986827434331466\n",
      "Silhoutte coefficient for number of clusters=10: 0.14528492819898758\n",
      "Silhoutte coefficient for number of clusters=11: 0.1446451375964896\n",
      "Silhoutte coefficient for number of clusters=12: 0.13772348359958783\n",
      "Silhoutte coefficient for number of clusters=13: 0.1384351302430775\n",
      "Silhoutte coefficient for number of clusters=14: 0.1342774085719097\n",
      "Silhoutte coefficient for number of clusters=15: 0.13219128691652093\n"
     ]
    }
   ],
   "source": [
    "#run k-means with 10 choices of initial centroids for a range of values of n_clusters\n",
    "\n",
    "for i in range(2,16):\n",
    "    kmeans=KMeans(n_clusters=i,n_init=10,random_state = ID)\n",
    "    kmeans.fit(X_train,y_train)\n",
    "    silhouttescore = sklearn.metrics.silhouette_score(X_train, kmeans.predict(X_train), metric='euclidean', sample_size=None, random_state=None)\n",
    "    print(\"Silhoutte coefficient for number of clusters=\"+str(i)+\": \"+str(silhouttescore))"
   ]
  },
  {
   "cell_type": "markdown",
   "metadata": {},
   "source": [
    "## TO DO 5\n",
    "\n",
    "Based on the silhoutte score, which $k$ would you pick? Motivate your choice. Does your choice match what you know about the data? If yes, explain why you think this is the case; if no, explain what you think may be the reason."
   ]
  },
  {
   "cell_type": "markdown",
   "metadata": {},
   "source": [
    "I would pick k=2 because the higher value of silhouttescore indicates that the object is well matched to its own cluster and poorly matched to neighboring clusters.\n",
    "My choice does not match what i know about the data since i choose k=2 but looking at the dataset we have 10 labels."
   ]
  }
 ],
 "metadata": {
  "kernelspec": {
   "display_name": "Python 3 (ipykernel)",
   "language": "python",
   "name": "python3"
  },
  "language_info": {
   "codemirror_mode": {
    "name": "ipython",
    "version": 3
   },
   "file_extension": ".py",
   "mimetype": "text/x-python",
   "name": "python",
   "nbconvert_exporter": "python",
   "pygments_lexer": "ipython3",
   "version": "3.9.12"
  }
 },
 "nbformat": 4,
 "nbformat_minor": 4
}
